{
 "cells": [
  {
   "cell_type": "code",
   "execution_count": 23,
   "id": "45eacb0d",
   "metadata": {},
   "outputs": [],
   "source": [
    "import argparse\n",
    "from bertviz import model_view\n",
    "import jsonlines\n",
    "import os\n",
    "import numpy as np\n",
    "import pytorch_lightning as pl\n",
    "\n",
    "from constants import ENTITY_START_MARKER, ENTITY_END_MARKER\n",
    "from data_loader import  DrugSynergyDataModule, make_fixed_length\n",
    "from model import RelationExtractor, load_model\n",
    "from preprocess import create_dataset\n",
    "from utils import construct_row_id_idx_mapping, set_seed, write_error_analysis_file\n",
    "\n",
    "from streamlit_single_relation_app import classify_message"
   ]
  },
  {
   "cell_type": "code",
   "execution_count": 24,
   "id": "a5571cc4",
   "metadata": {},
   "outputs": [],
   "source": [
    "checkpoint_path = \"/home/vijay/drug-synergy-models/checkpoints_more_data_with_drug_tokens_paragraph_2024_multiclass\""
   ]
  },
  {
   "cell_type": "code",
   "execution_count": 25,
   "id": "da6cc864",
   "metadata": {},
   "outputs": [],
   "source": [
    "model, tokenizer, metadata = load_model(checkpoint_path, output_attentions=True)"
   ]
  },
  {
   "cell_type": "code",
   "execution_count": 26,
   "id": "ec55ee73",
   "metadata": {},
   "outputs": [
    {
     "data": {
      "text/plain": [
       "2377"
      ]
     },
     "execution_count": 26,
     "metadata": {},
     "output_type": "execute_result"
    }
   ],
   "source": [
    "tokenizer.add_tokens([ENTITY_START_MARKER, ENTITY_END_MARKER])\n",
    "drugs = open(\"drugs.txt\").read().lower().split()\n",
    "tokenizer.add_tokens(drugs)"
   ]
  },
  {
   "cell_type": "code",
   "execution_count": 58,
   "id": "84c9b62a",
   "metadata": {},
   "outputs": [
    {
     "data": {
      "text/plain": [
       "'\\nmessage_text = \"Various cutaneous side-effects have been reported with anti-melanoma systemic therapies. \"+ \"This study investigated the changes in melanocytic lesion pigmentation in patients on four different therapies.\"+ \" ### methods We analysed the serial dermatoscopic photographs of atypical melanocytic lesions taken from patients\"+ \" with advanced metastatic melanoma on four different systemic therapies ( selective BRAF-inhibitor monotherapy ,\"+ \" <<m>> dabrafenib <</m>> combined with <<m>> trametinib <</m>> [ D&T ] , anti-programmed cell death protein 1 [ \"+ \"anti-PD1 ] therapies , and anti-PD1 combined with ipilimumab ) seen from February 2013 to May 2016 . We compared \"+ \"these changes with the melanocytic lesions of 10 control patients. ### results In the control group, 19% of naevi \"+ \"lightened, 64% did not change and 17% darkened. Only the BRAF inhibitor group showed more darkened lesions than \"+ \"controls (37%, P < 0.001). Meanwhile, there were more lightened naevi in the D&T therapy group (86%, P < 0.001) \"+ \"as well as the anti-PD1 and ipilimumab groups (59%, P < 0.001) than controls. Patients on anti-PD1 monotherapy \"+ \"had more lightened (49%) and fewer darkened naevi (9%) than controls, but differences were not significant. ###\"+ \" conclusions Our study showed that different anti-melanoma systemic therapies have different effects on the \"+ \"pigmentation of melanocytic lesions. BRAF inhibitor may have the propensity to cause darkening while D&T therapy\"+ \" and anti-PD1 caused lightening compared with controls. The findings emphasise the importance of regular \"+ \"dermatological monitoring in specialised clinics for patients on anti-melanoma systemic therapy. Clinicians \"+ \"should expect changes in the global pigmentation of melanocytic lesions but be suspicious of lesions with \"+ \"structural changes.\"\\n'"
      ]
     },
     "execution_count": 58,
     "metadata": {},
     "output_type": "execute_result"
    }
   ],
   "source": [
    "message_text = \"The aims of this study were to determine the effects of (a) combining the epidermal growth factor\"+ \\\n",
    "\" receptor (EGFR) blocker (erlotinib) and the cyclooxygenase-2 inhibitor (celecoxib) on cell growth and apoptosis\"+ \\\n",
    "\" in human pancreatic cancer cell lines, (b) baseline EGFR expression on the potentiation of erlotinib-induced\"+ \\\n",
    "\" apoptosis by celecoxib, and (c) the effects of the combination on the expression of the COX-2, EGFR, HER-2/neu,\"+ \\\n",
    "\" and nuclear factor-kappaB (NF-kappaB). Baseline expression of EGFR was determined by Western blot analysis in\"+ \\\n",
    "\" five human pancreatic cancer cell lines. BxPC-3, PANC-1, and HPAC had high EGFR and MIAPaCa had low EGFR. Cells\"+ \\\n",
    "\" were grown in culture and treated with erlotinib (1 and 10 micromol/L), celecoxib (1 and 10 micromol/L), and the\"+ \\\n",
    "\" combination. Growth inhibition was evaluated using 3-(4,5-dimethylthiazol-2-yl)-2,5-diphenyltetrazolium bromide\"+ \\\n",
    "\" assay, and apoptosis was assayed by ELISA. Reverse transcriptase-PCR was used to evaluate COX-2 and EGFR mRNA.\"+ \\\n",
    "\" EGFR, COX-2, and HER-2/neu expression was determined by Western immunoblotting. Electrophoretic mobility shift\"+ \\\n",
    "\" assay was used to evaluate NF-kappaB activation. Growth inhibition and apoptosis were significantly ( P < 0.05 )\"+ \\\n",
    "\" higher in BxPC-3 , HPAC , and PANC-1 cells treated with <<m>> celecoxib <</m>> and <<m>> erlotinib <</m>> than cells \"+ \\\n",
    "\" treated with either\"+ \\\n",
    "\" celecoxib or erlotinib or cisplatin . However, no potentiation in growth inhibition or apoptosis was observed in the MIAPaCa\"+ \\\n",
    "\" cell line with low expression of the EGFR. Significant down-regulation of COX-2 and EGFR expression was observed\"+ \\\n",
    "\" in the BxPC-3 and HPAC cells treated with the combination of erlotinib (1 micromol/L) and celecoxib (10 micromol/L)\"+ \\\n",
    "\" compared with celecoxib- or erlotinib-treated cells. celecoxib significantly down-regulated HER-2/neu expression in\"+ \\\n",
    "\" BxPC-3 and HPAC cell lines. Significant inhibition of NF-kappaB activation was observed in BxPC-3 and HPAC cell\"+ \\\n",
    "\" lines treated with erlotinib and celecoxib. (a) celecoxib can potentiate erlotinib-induced growth inhibition and\"+ \\\n",
    "\" apoptosis in pancreatic cell lines, (b) high baseline EGFR expression is a predictor of this potentiation, and (c)\"+ \\\n",
    "\" the down-regulation of EGFR, COX-2, and HER-2/neu expression and NF-kappaB inactivation contributes to the\"+ \\\n",
    "\" potentiation of erlotinib by celecoxib, suggesting an alternative to cisplatin.\"\n",
    "\n",
    "'''\n",
    "message_text = \"Various cutaneous side-effects have been reported with anti-melanoma systemic therapies. \"+ \\\n",
    "\"This study investigated the changes in melanocytic lesion pigmentation in patients on four different therapies.\"+ \\\n",
    "\" ### methods We analysed the serial dermatoscopic photographs of atypical melanocytic lesions taken from patients\"+ \\\n",
    "\" with advanced metastatic melanoma on four different systemic therapies ( selective BRAF-inhibitor monotherapy ,\"+ \\\n",
    "\" <<m>> dabrafenib <</m>> combined with <<m>> trametinib <</m>> [ D&T ] , anti-programmed cell death protein 1 [ \"+ \\\n",
    "\"anti-PD1 ] therapies , and anti-PD1 combined with ipilimumab ) seen from February 2013 to May 2016 . We compared \"+ \\\n",
    "\"these changes with the melanocytic lesions of 10 control patients. ### results In the control group, 19% of naevi \"+ \\\n",
    "\"lightened, 64% did not change and 17% darkened. Only the BRAF inhibitor group showed more darkened lesions than \"+ \\\n",
    "\"controls (37%, P < 0.001). Meanwhile, there were more lightened naevi in the D&T therapy group (86%, P < 0.001) \"+ \\\n",
    "\"as well as the anti-PD1 and ipilimumab groups (59%, P < 0.001) than controls. Patients on anti-PD1 monotherapy \"+ \\\n",
    "\"had more lightened (49%) and fewer darkened naevi (9%) than controls, but differences were not significant. ###\"+ \\\n",
    "\" conclusions Our study showed that different anti-melanoma systemic therapies have different effects on the \"+ \\\n",
    "\"pigmentation of melanocytic lesions. BRAF inhibitor may have the propensity to cause darkening while D&T therapy\"+ \\\n",
    "\" and anti-PD1 caused lightening compared with controls. The findings emphasise the importance of regular \"+ \\\n",
    "\"dermatological monitoring in specialised clinics for patients on anti-melanoma systemic therapy. Clinicians \"+ \\\n",
    "\"should expect changes in the global pigmentation of melanocytic lesions but be suspicious of lesions with \"+ \\\n",
    "\"structural changes.\"\n",
    "'''"
   ]
  },
  {
   "cell_type": "code",
   "execution_count": 59,
   "id": "e7f277a8",
   "metadata": {},
   "outputs": [],
   "source": [
    "inputs = tokenizer.encode(message_text, return_tensors='pt')\n",
    "tokens = tokenizer.convert_ids_to_tokens(inputs[0]) "
   ]
  },
  {
   "cell_type": "code",
   "execution_count": 60,
   "id": "b9747cdf",
   "metadata": {},
   "outputs": [],
   "source": [
    "#tokens = make_fixed_length(tokens, metadata.max_seq_length, padding_value = \"<PAD>\")"
   ]
  },
  {
   "cell_type": "code",
   "execution_count": 61,
   "id": "7b2015d8",
   "metadata": {},
   "outputs": [],
   "source": [
    "model_output, attention = classify_message(message_text, model, tokenizer, metadata.max_seq_length)"
   ]
  },
  {
   "cell_type": "code",
   "execution_count": 62,
   "id": "4ea87561",
   "metadata": {},
   "outputs": [
    {
     "data": {
      "text/plain": [
       "{'predicted label': 0,\n",
       " 'relation probabilities': [0.7053, 0.0817, 0.0294, 0.1836]}"
      ]
     },
     "execution_count": 62,
     "metadata": {},
     "output_type": "execute_result"
    }
   ],
   "source": [
    "model_output"
   ]
  },
  {
   "cell_type": "code",
   "execution_count": 63,
   "id": "d686de29",
   "metadata": {},
   "outputs": [],
   "source": [
    "def only_keep_nth_head(attention_layer, head_idxs, seq_length):\n",
    "    return attention_layer[:, head_idxs, :seq_length, :seq_length]"
   ]
  },
  {
   "cell_type": "code",
   "execution_count": 64,
   "id": "660d36bc",
   "metadata": {},
   "outputs": [],
   "source": [
    "attention_pruned = [only_keep_nth_head(attention[i], list(range(12)), len(tokens)) for i in range(12)]"
   ]
  },
  {
   "cell_type": "code",
   "execution_count": 66,
   "id": "afd5c4d6",
   "metadata": {
    "scrolled": false
   },
   "outputs": [
    {
     "name": "stdout",
     "output_type": "stream",
     "text": [
      "Showing attention head 0 in transformer layer 0\n",
      "Query entity: entity marker before \"celecoxib\" (300)\n",
      "===================================================\n",
      "Subword\t\t\t|\tAttention weight\n",
      "---------------------------------------------------\n",
      "[CLS] (0)\t\t\t0.06035729870200157\n",
      "however (318)\t\t\t0.01803034357726574\n",
      "baseline (469)\t\t\t0.017301596701145172\n",
      "contributes (507)\t\t0.015397525392472744\n",
      ") (467)\t\t\t\t0.010856201872229576\n",
      "observed (328)\t\t\t0.010762047953903675\n",
      ") (482)\t\t\t\t0.010375728830695152\n",
      "nf (502)\t\t\t0.01007224339991808\n",
      "predictor (474)\t\t\t0.009087681770324707\n",
      "##b (505)\t\t\t0.009011885151267052\n",
      "\n",
      "\n",
      "\n",
      "Showing attention head 1 in transformer layer 0\n",
      "Query entity: entity marker before \"celecoxib\" (300)\n",
      "===================================================\n",
      "Subword\t\t\t|\tAttention weight\n",
      "---------------------------------------------------\n",
      "egfr (488)\t\t\t0.01927526481449604\n",
      "egfr (470)\t\t\t0.018516073003411293\n",
      "egfr (352)\t\t\t0.017373019829392433\n",
      "induced (455)\t\t\t0.013868839479982853\n",
      "regulation (486)\t\t0.01262357085943222\n",
      "egfr (341)\t\t\t0.011522654443979263\n",
      "immunoblotting (254)\t\t0.011162650771439075\n",
      "regulated (402)\t\t\t0.011134881526231766\n",
      "down (484)\t\t\t0.010909823700785637\n",
      "potenti (451)\t\t\t0.010615830309689045\n",
      "\n",
      "\n",
      "\n",
      "Showing attention head 2 in transformer layer 0\n",
      "Query entity: entity marker before \"celecoxib\" (300)\n",
      "===================================================\n",
      "Subword\t\t\t|\tAttention weight\n",
      "---------------------------------------------------\n",
      "her (244)\t\t\t0.011338057927787304\n",
      "either (311)\t\t\t0.01064576581120491\n",
      "on (76)\t\t\t\t0.010446901433169842\n",
      "[CLS] (0)\t\t\t0.009053229354321957\n",
      ", (128)\t\t\t\t0.008811513893306255\n",
      "on (38)\t\t\t\t0.008711577393114567\n",
      ". (317)\t\t\t\t0.008079508319497108\n",
      ") (23)\t\t\t\t0.007198922801762819\n",
      "by (64)\t\t\t\t0.007160687353461981\n",
      "/ (385)\t\t\t\t0.007158975582569838\n",
      "\n",
      "\n",
      "\n",
      "Showing attention head 3 in transformer layer 0\n",
      "Query entity: entity marker before \"celecoxib\" (300)\n",
      "===================================================\n",
      "Subword\t\t\t|\tAttention weight\n",
      "---------------------------------------------------\n",
      "cancer (120)\t\t\t0.01610250025987625\n",
      "cancer (46)\t\t\t0.015473613515496254\n",
      "##ol (384)\t\t\t0.013002345338463783\n",
      "celecoxib (312)\t\t\t0.01074113417416811\n",
      "##ol (375)\t\t\t0.010658659040927887\n",
      "inhibition (324)\t\t0.010335697792470455\n",
      "##a (333)\t\t\t0.009992120787501335\n",
      "##ol (161)\t\t\t0.008429349400103092\n",
      "apoptosis (326)\t\t\t0.007829480804502964\n",
      "celecoxib (301)\t\t\t0.007811778225004673\n",
      "\n",
      "\n",
      "\n",
      "Showing attention head 4 in transformer layer 0\n",
      "Query entity: entity marker before \"celecoxib\" (300)\n",
      "===================================================\n",
      "Subword\t\t\t|\tAttention weight\n",
      "---------------------------------------------------\n",
      "<</m>> (302)\t\t\t0.11582845449447632\n",
      "celecoxib (301)\t\t\t0.08769624680280685\n",
      "<</m>> (306)\t\t\t0.07237349450588226\n",
      "potentiation (321)\t\t0.05318300798535347\n",
      "erlotinib (305)\t\t\t0.04945702850818634\n",
      "inhibition (324)\t\t0.0398196205496788\n",
      "celecoxib (312)\t\t\t0.03365363925695419\n",
      "cells (297)\t\t\t0.031820472329854965\n",
      "cisplatin (316)\t\t\t0.031526315957307816\n",
      "<<m>> (300)\t\t\t0.026370039209723473\n",
      "\n",
      "\n",
      "\n",
      "Showing attention head 5 in transformer layer 0\n",
      "Query entity: entity marker before \"celecoxib\" (300)\n",
      "===================================================\n",
      "Subword\t\t\t|\tAttention weight\n",
      "---------------------------------------------------\n",
      "celecoxib (301)\t\t\t0.3044399917125702\n",
      "<<m>> (300)\t\t\t0.19731417298316956\n",
      "<</m>> (302)\t\t\t0.16234895586967468\n",
      "erlotinib (305)\t\t\t0.11122827976942062\n",
      "<<m>> (304)\t\t\t0.06571555882692337\n",
      "<</m>> (306)\t\t\t0.0376138873398304\n",
      "with (299)\t\t\t0.02208620496094227\n",
      "treated (298)\t\t\t0.013274977914988995\n",
      "and (303)\t\t\t0.01269163005053997\n",
      "erlotinib (314)\t\t\t0.008033514022827148\n",
      "\n",
      "\n",
      "\n",
      "Showing attention head 6 in transformer layer 0\n",
      "Query entity: entity marker before \"celecoxib\" (300)\n",
      "===================================================\n",
      "Subword\t\t\t|\tAttention weight\n",
      "---------------------------------------------------\n",
      "celecoxib (301)\t\t\t0.7480920553207397\n",
      "<</m>> (302)\t\t\t0.1320420652627945\n",
      "<<m>> (300)\t\t\t0.0982821062207222\n",
      "<<m>> (304)\t\t\t0.019259363412857056\n",
      "and (303)\t\t\t0.0006623516674153507\n",
      "erlotinib (305)\t\t\t0.0005472737248055637\n",
      "<</m>> (306)\t\t\t0.0003939906891901046\n",
      "erlotinib (155)\t\t\t0.00039168927469290793\n",
      "with (299)\t\t\t6.264930561883375e-05\n",
      "assay (259)\t\t\t2.6023555619758554e-05\n",
      "\n",
      "\n",
      "\n",
      "Showing attention head 7 in transformer layer 0\n",
      "Query entity: entity marker before \"celecoxib\" (300)\n",
      "===================================================\n",
      "Subword\t\t\t|\tAttention weight\n",
      "---------------------------------------------------\n",
      "observed (328)\t\t\t0.06176983192563057\n",
      "either (311)\t\t\t0.05507546290755272\n",
      "observed (355)\t\t\t0.036317165940999985\n",
      "however (318)\t\t\t0.031415943056344986\n",
      "study (5)\t\t\t0.030730338767170906\n",
      "panc (294)\t\t\t0.026574235409498215\n",
      "bx (285)\t\t\t0.01933654211461544\n",
      "evaluate (263)\t\t\t0.01894311048090458\n",
      "potentiation (321)\t\t0.01699695736169815\n",
      "celecoxib (301)\t\t\t0.0165411364287138\n",
      "\n",
      "\n",
      "\n",
      "Showing attention head 8 in transformer layer 0\n",
      "Query entity: entity marker before \"celecoxib\" (300)\n",
      "===================================================\n",
      "Subword\t\t\t|\tAttention weight\n",
      "---------------------------------------------------\n",
      "05 (281)\t\t\t0.024900304153561592\n",
      "observed (328)\t\t\t0.016939692199230194\n",
      "[CLS] (0)\t\t\t0.016765182837843895\n",
      "observed (355)\t\t\t0.015432817861437798\n",
      "1 (296)\t\t\t\t0.012785837985575199\n",
      "0 (279)\t\t\t\t0.012335008010268211\n",
      "in (284)\t\t\t0.012131895869970322\n",
      "celecoxib (301)\t\t\t0.011435477994382381\n",
      "combination (369)\t\t0.010838360525667667\n",
      "in (322)\t\t\t0.010307779535651207\n",
      "\n",
      "\n",
      "\n",
      "Showing attention head 9 in transformer layer 0\n",
      "Query entity: entity marker before \"celecoxib\" (300)\n",
      "===================================================\n",
      "Subword\t\t\t|\tAttention weight\n",
      "---------------------------------------------------\n",
      "cells (297)\t\t\t0.010367752984166145\n",
      "bx (285)\t\t\t0.009176105260848999\n",
      "bx (358)\t\t\t0.009116832166910172\n",
      "cox (348)\t\t\t0.008315927349030972\n",
      "combining (15)\t\t\t0.007746131159365177\n",
      "[CLS] (0)\t\t\t0.00767259718850255\n",
      "cells (308)\t\t\t0.007369096390902996\n",
      "cox (490)\t\t\t0.007249406538903713\n",
      "hpa (290)\t\t\t0.007032597437500954\n",
      "bx (124)\t\t\t0.00698922760784626\n",
      "\n",
      "\n",
      "\n",
      "Showing attention head 10 in transformer layer 0\n",
      "Query entity: entity marker before \"celecoxib\" (300)\n",
      "===================================================\n",
      "Subword\t\t\t|\tAttention weight\n",
      "---------------------------------------------------\n",
      "aims (2)\t\t\t0.03812103718519211\n",
      "erlotinib (305)\t\t\t0.037194158881902695\n",
      "<</m>> (302)\t\t\t0.02780967205762863\n",
      "<</m>> (306)\t\t\t0.025694875046610832\n",
      "panc (294)\t\t\t0.023672524839639664\n",
      "combining (15)\t\t\t0.023138049989938736\n",
      "bx (285)\t\t\t0.022829310968518257\n",
      "erlotinib (314)\t\t\t0.022035952657461166\n",
      "shift (258)\t\t\t0.021495673805475235\n",
      "celecoxib (301)\t\t\t0.020193519070744514\n",
      "\n",
      "\n",
      "\n",
      "Showing attention head 11 in transformer layer 0\n",
      "Query entity: entity marker before \"celecoxib\" (300)\n",
      "===================================================\n",
      "Subword\t\t\t|\tAttention weight\n",
      "---------------------------------------------------\n",
      "<<m>> (300)\t\t\t0.6274474859237671\n",
      "celecoxib (301)\t\t\t0.194853737950325\n",
      "<</m>> (302)\t\t\t0.10419688373804092\n",
      "with (299)\t\t\t0.04278213903307915\n",
      "<</m>> (306)\t\t\t0.00822367798537016\n",
      "treated (298)\t\t\t0.0051162391901016235\n",
      "<<m>> (304)\t\t\t0.003576560877263546\n",
      "or (325)\t\t\t0.0014827621635049582\n",
      "and (303)\t\t\t0.001355853397399187\n",
      "erlotinib (305)\t\t\t0.0012506749480962753\n",
      "\n",
      "\n",
      "\n"
     ]
    }
   ],
   "source": [
    "def print_top_attended_words(attention_tensors, query_token_idx, layer_idx, attn_head_idx, num_words_to_show=10):\n",
    "    top_self_attentions = np.argsort(-attention_tensors[layer_idx][0][attn_head_idx][query_token_idx].detach())[:num_words_to_show]\n",
    "    for other_token_idx in top_self_attentions:\n",
    "        word = f\"{tokens[other_token_idx]} ({other_token_idx})\"\n",
    "        if len(word) <= 7:\n",
    "            num_tabs = 4\n",
    "        elif len(word) >= 16:\n",
    "            num_tabs = 2\n",
    "        else:\n",
    "            num_tabs = 3\n",
    "        tabs = \"\".join([\"\\t\" for _ in range(num_tabs)])\n",
    "        print(f\"{tokens[other_token_idx]} ({other_token_idx}){tabs}{attention_pruned[layer_idx][0][attn_head_idx][start][other_token_idx]}\")\n",
    "\n",
    "TRANSFORMER_LAYER_IDX = 0\n",
    "ATTENTION_HEAD_IDX = 4\n",
    "start_token_idxs = [i for i, v in enumerate(tokens) if v == \"<<m>>\"]\n",
    "for attention_head in range(12):\n",
    "    start = start_token_idxs[0]\n",
    "    print(f\"Showing attention head {attention_head} in transformer layer {TRANSFORMER_LAYER_IDX}\")\n",
    "    print(f\"Query entity: entity marker before \\\"{tokens[start+1]}\\\" ({start})\")\n",
    "    print(\"===================================================\")\n",
    "    print(f\"Subword\\t\\t\\t|\\tAttention weight\\n---------------------------------------------------\")\n",
    "    print_top_attended_words(attention_pruned, start, TRANSFORMER_LAYER_IDX, attention_head)\n",
    "    print(\"\\n\\n\")"
   ]
  },
  {
   "cell_type": "markdown",
   "id": "2b505b04",
   "metadata": {
    "scrolled": false
   },
   "source": [
    "# model_view(attention_pruned, tokens[:metadata.max_seq_length])"
   ]
  },
  {
   "cell_type": "code",
   "execution_count": null,
   "id": "d86f1742",
   "metadata": {},
   "outputs": [],
   "source": []
  }
 ],
 "metadata": {
  "kernelspec": {
   "display_name": "Python 3 (ipykernel)",
   "language": "python",
   "name": "python3"
  },
  "language_info": {
   "codemirror_mode": {
    "name": "ipython",
    "version": 3
   },
   "file_extension": ".py",
   "mimetype": "text/x-python",
   "name": "python",
   "nbconvert_exporter": "python",
   "pygments_lexer": "ipython3",
   "version": "3.8.5"
  }
 },
 "nbformat": 4,
 "nbformat_minor": 5
}
